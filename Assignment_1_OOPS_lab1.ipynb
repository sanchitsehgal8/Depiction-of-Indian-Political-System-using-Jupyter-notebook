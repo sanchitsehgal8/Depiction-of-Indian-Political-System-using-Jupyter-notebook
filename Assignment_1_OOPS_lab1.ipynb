{
  "nbformat": 4,
  "nbformat_minor": 0,
  "metadata": {
    "colab": {
      "provenance": [],
      "gpuType": "T4",
      "authorship_tag": "ABX9TyNo/xgWrZB+xZVtH9btxfGT",
      "include_colab_link": true
    },
    "kernelspec": {
      "name": "python3",
      "display_name": "Python 3"
    },
    "language_info": {
      "name": "python"
    },
    "accelerator": "GPU"
  },
  "cells": [
    {
      "cell_type": "markdown",
      "metadata": {
        "id": "view-in-github",
        "colab_type": "text"
      },
      "source": [
        "<a href=\"https://colab.research.google.com/github/sanchitsehgal8/Depiction-of-Indian-Political-System-using-Jupyter-notebook/blob/main/Assignment_1_OOPS_lab1.ipynb\" target=\"_parent\"><img src=\"https://colab.research.google.com/assets/colab-badge.svg\" alt=\"Open In Colab\"/></a>"
      ]
    },
    {
      "cell_type": "code",
      "execution_count": null,
      "metadata": {
        "id": "tGywN2BOymcU"
      },
      "outputs": [],
      "source": [
        "# Indian Political System\n",
        "\n",
        "class election_commission:\n",
        "  def __init__(self, country: str, total_states: int):\n",
        "    self.country=country\n",
        "    self.total_states = total_states\n",
        "  def display_info(self):\n",
        "    print(f\"Country: {self.country}\")\n",
        "    print(f\"Total States: {self.total_states}\")\n",
        "\n",
        "class state_election_commission(election_commission):\n",
        "  def __init__(self, country: str, total_states: int, state_name: str, total_constituencies: int):\n",
        "    super().__init__(country, total_states)\n",
        "    self.state_name = state_name\n",
        "    self.total_constituencies = total_constituencies\n",
        "  def display_state_info(self):\n",
        "    print(f\"State Name: {self.state_name}\")\n",
        "    print(f\"Total Constituencies: {self.total_constituencies}\")\n",
        "\n",
        "\n",
        "\n",
        "\n",
        "\n"
      ]
    },
    {
      "cell_type": "code",
      "source": [
        "class Candidate:\n",
        "  def __init__(self, candidate_id: int, name: str, party: str, age: int, is_incumbent: bool, vote_share: float):\n",
        "    self.candidate_id=candidate_id\n",
        "    self.name=name\n",
        "    self.party=party\n",
        "    self.age=age\n",
        "    self.is_incumbent= is_incumbent\n",
        "    self.vote_share= vote_share\n"
      ],
      "metadata": {
        "id": "edcpcVC51Fkr"
      },
      "execution_count": null,
      "outputs": []
    },
    {
      "cell_type": "code",
      "source": [
        "def encode_candidate_to_bytes(candidate):\n",
        "  data_str = f\"{candidate.candidate_id}|{candidate.name}|{candidate.party}|{candidate.age}|{candidate.is_incumbent}|{candidate.vote_share}\"\n",
        "  return data_str.encode('utf-8')\n",
        "\n",
        "def decode_candidate_to_bytes(encoded_data: bytes):\n",
        "\n",
        "    data_str = encoded_data.decode('utf-8')\n",
        "    parts = data_str.split('|')\n",
        "\n",
        "    if len(parts) == 6:\n",
        "        return Candidate(\n",
        "            int(parts[0]),\n",
        "            parts[1],\n",
        "            parts[2],\n",
        "            int(parts[3]),\n",
        "            parts[4].lower() == 'true',\n",
        "            float(parts[5])\n",
        "        )\n"
      ],
      "metadata": {
        "id": "jHaD9Qh21k3d"
      },
      "execution_count": null,
      "outputs": []
    },
    {
      "cell_type": "code",
      "source": [
        "def calculate_total_votes(vote_data:bytearray):\n",
        "      return sum(vote_data)\n",
        "\n",
        "\n",
        "def update_votes(vote_data: bytearray, constituency_index: int, new_votes: int):\n",
        "  if 0 <= constituency_index < len(vote_data):\n",
        "     vote_data[constituency_index] = new_votes"
      ],
      "metadata": {
        "id": "LDo9uJsE77jp"
      },
      "execution_count": null,
      "outputs": []
    },
    {
      "cell_type": "code",
      "source": [
        "c1 = Candidate(1, \"Aman Singh\", \"Party A\", 45, True, 0.0)\n",
        "c2 = Candidate(2, \"Suruchi Sehgal\", \"Party B\", 50, False, 0.0)\n",
        "c3 = Candidate(3, \"Mika Singh\", \"Party C\", 38, False, 0.0)\n",
        "\n",
        "candidates = [c1, c2, c3]\n",
        "\n",
        "encoded_candidates = [encode_candidate_to_bytes(c) for c in candidates]\n",
        "\n",
        "print(\"Decoded Candidate Data:\")\n",
        "for enc in encoded_candidates:\n",
        "  decoded = decode_candidate_to_bytes(enc)\n",
        "  if decoded: # Check if decoding was successful\n",
        "    # Print decoded candidate details to verify\n",
        "    print(f\"ID: {decoded.candidate_id}, Name: {decoded.name}, Party: {decoded.party}, Age: {decoded.age}, Incumbent: {decoded.is_incumbent}, Vote Share: {decoded.vote_share}\")"
      ],
      "metadata": {
        "colab": {
          "base_uri": "https://localhost:8080/"
        },
        "id": "8yevqj1w9vzi",
        "outputId": "4aa29072-e272-40c3-bb24-1df2dabcc74f"
      },
      "execution_count": null,
      "outputs": [
        {
          "output_type": "stream",
          "name": "stdout",
          "text": [
            "Decoded Candidate Data:\n",
            "ID: 1, Name: Aman Singh, Party: Party A, Age: 45, Incumbent: True, Vote Share: 0.0\n",
            "ID: 2, Name: Suruchi Sehgal, Party: Party B, Age: 50, Incumbent: False, Vote Share: 0.0\n",
            "ID: 3, Name: Mika Singh, Party: Party C, Age: 38, Incumbent: False, Vote Share: 0.0\n"
          ]
        }
      ]
    },
    {
      "cell_type": "code",
      "source": [
        "    votes_c1 = bytearray([120, 200, 150, 180, 90])\n",
        "    votes_c2 = bytearray([130, 220, 200, 160, 200])\n",
        "    votes_c3 = bytearray([100, 210, 160, 170, 95])\n",
        "\n",
        "    # Calculate total votes\n",
        "    totals = [\n",
        "        calculate_total_votes(votes_c1),\n",
        "        calculate_total_votes(votes_c2),\n",
        "        calculate_total_votes(votes_c3)\n",
        "    ]\n",
        "\n",
        "    # Determine winner\n",
        "    winner_index = totals.index(max(totals))\n",
        "    winner = candidates[winner_index]\n",
        "\n",
        "    print(\"Final Results:\")\n",
        "    for i, candidate in enumerate(candidates):\n",
        "        print(f\"{candidate.name} ({candidate.party}) - Total Votes: {totals[i]}\")\n",
        "\n",
        "    print(f\"\\nWinner: {winner.name} from {winner.party} with {totals[winner_index]} votes.\")\n"
      ],
      "metadata": {
        "colab": {
          "base_uri": "https://localhost:8080/"
        },
        "id": "-oqQGoo0Cv56",
        "outputId": "224de0df-82ad-4325-92b3-885c3140c59b"
      },
      "execution_count": null,
      "outputs": [
        {
          "output_type": "stream",
          "name": "stdout",
          "text": [
            "Final Results:\n",
            "Aman Singh (Party A) - Total Votes: 740\n",
            "Suruchi Sehgal (Party B) - Total Votes: 910\n",
            "Mika Singh (Party C) - Total Votes: 735\n",
            "\n",
            "Winner: Suruchi Sehgal from Party B with 910 votes.\n"
          ]
        }
      ]
    }
  ]
}